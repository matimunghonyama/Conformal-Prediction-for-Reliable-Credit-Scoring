{
 "cells": [
  {
   "cell_type": "code",
   "execution_count": 1,
   "id": "5ad9c05d",
   "metadata": {},
   "outputs": [],
   "source": [
    "import numpy as np \n",
    "import pandas as pd\n",
    "from sklearn.datasets import make_classification"
   ]
  },
  {
   "cell_type": "code",
   "execution_count": 2,
   "id": "92f6a514",
   "metadata": {},
   "outputs": [],
   "source": [
    "#Set random seed for reproducibility\n",
    "np.random.seed(42)"
   ]
  },
  {
   "cell_type": "code",
   "execution_count": 4,
   "id": "963969b8",
   "metadata": {},
   "outputs": [],
   "source": [
    "#Generate synthetic data\n",
    "\n",
    "n_samples = 10000\n",
    "X, y = make_classification(n_samples=n_samples, n_features=8, n_informative=5,\n",
    "                          n_redundant=2, n_classes=2, weights=[0.7, 0.3],\n",
    "                          random_state=42)"
   ]
  },
  {
   "cell_type": "code",
   "execution_count": 5,
   "id": "662e4338",
   "metadata": {},
   "outputs": [],
   "source": [
    "#Create a DataFrame\n",
    "\n",
    "df = pd.DataFrame(X, columns=['income', 'age', 'employment_length', 'debt_to_income',\n",
    "                             'credit_score', 'num_credit_lines', 'num_late_payments',\n",
    "                             'loan_amount'])"
   ]
  },
  {
   "cell_type": "code",
   "execution_count": 7,
   "id": "3fc7c820",
   "metadata": {},
   "outputs": [
    {
     "name": "stderr",
     "output_type": "stream",
     "text": [
      "C:\\Users\\matim\\anaconda3\\Lib\\site-packages\\pandas\\core\\arraylike.py:396: RuntimeWarning: overflow encountered in exp\n",
      "  result = getattr(ufunc, method)(*inputs, **kwargs)\n"
     ]
    }
   ],
   "source": [
    "#Add some noise and scale features to make them more realistic\n",
    "\n",
    "df['income'] = np.exp(df['income'] * 2) *1000 + 20000\n",
    "df['age'] = df['age'] * 10 + 40\n",
    "df['employment_length'] = np.abs(df['employment_length'] * 5 + 2).astype(int)\n",
    "df['debt_to_income'] = np.abs(df['debt_to_income'] * 0.2 + 0.3)\n",
    "df['credit_score'] = np.clip(df['credit_score'] * 100 + 650, 300,850).astype(int)\n",
    "df['num_credit_lines'] = np.abs(df['num_credit_lines'] *3 + 5).astype(int)\n",
    "df['num_late_payments'] = np.abs(df['num_late_payments'] * 2).astype(int)\n",
    "df['loan_amount'] = np.exp(df['loan_amount']) * 1000 + 5000"
   ]
  },
  {
   "cell_type": "code",
   "execution_count": 8,
   "id": "0a02b983",
   "metadata": {},
   "outputs": [],
   "source": [
    "#Add target variable (0 for repaid, 1 for default)\n",
    "\n",
    "df['loan_status'] = y"
   ]
  },
  {
   "cell_type": "code",
   "execution_count": 10,
   "id": "826565af",
   "metadata": {},
   "outputs": [
    {
     "name": "stdout",
     "output_type": "stream",
     "text": [
      "   income         age  employment_length  debt_to_income  credit_score  \\\n",
      "0     inf  485.564294                  5        0.258730           522   \n",
      "1     inf  546.890627                  0        0.183107           850   \n",
      "2     inf  401.933287                  0        0.534357           701   \n",
      "3     inf  427.923534                  1        0.089264           850   \n",
      "4     inf  677.152125                  8        0.082136           533   \n",
      "\n",
      "   num_credit_lines  num_late_payments  loan_amount  loan_status  \n",
      "0                10                  2  5073.069530            0  \n",
      "1                 7                  5  6084.382345            0  \n",
      "2                 3                  0  7249.086480            0  \n",
      "3                13                  6  5564.358483            0  \n",
      "4                 0                  2  5176.617390            0  \n",
      "\n",
      "Dataset Info:\n",
      "<class 'pandas.core.frame.DataFrame'>\n",
      "RangeIndex: 10000 entries, 0 to 9999\n",
      "Data columns (total 9 columns):\n",
      " #   Column             Non-Null Count  Dtype  \n",
      "---  ------             --------------  -----  \n",
      " 0   income             10000 non-null  float64\n",
      " 1   age                10000 non-null  float64\n",
      " 2   employment_length  10000 non-null  int32  \n",
      " 3   debt_to_income     10000 non-null  float64\n",
      " 4   credit_score       10000 non-null  int32  \n",
      " 5   num_credit_lines   10000 non-null  int32  \n",
      " 6   num_late_payments  10000 non-null  int32  \n",
      " 7   loan_amount        10000 non-null  float64\n",
      " 8   loan_status        10000 non-null  int32  \n",
      "dtypes: float64(4), int32(5)\n",
      "memory usage: 507.9 KB\n",
      "None\n"
     ]
    }
   ],
   "source": [
    "print(df.head())\n",
    "print(\"\\nDataset Info:\")\n",
    "print(df.info())"
   ]
  },
  {
   "cell_type": "code",
   "execution_count": 13,
   "id": "41e3b6ae",
   "metadata": {},
   "outputs": [
    {
     "name": "stdout",
     "output_type": "stream",
     "text": [
      "\n",
      "Dataset saved 'credit_scoring_dataset.csv'\n"
     ]
    }
   ],
   "source": [
    "#Save to CSV\n",
    "\n",
    "df.to_csv('credit_scoring_dataset.csv', index=False)\n",
    "print(\"\\nDataset saved 'credit_scoring_dataset.csv'\")"
   ]
  },
  {
   "cell_type": "code",
   "execution_count": null,
   "id": "d872ae53",
   "metadata": {},
   "outputs": [],
   "source": []
  }
 ],
 "metadata": {
  "kernelspec": {
   "display_name": "Python 3 (ipykernel)",
   "language": "python",
   "name": "python3"
  },
  "language_info": {
   "codemirror_mode": {
    "name": "ipython",
    "version": 3
   },
   "file_extension": ".py",
   "mimetype": "text/x-python",
   "name": "python",
   "nbconvert_exporter": "python",
   "pygments_lexer": "ipython3",
   "version": "3.11.5"
  }
 },
 "nbformat": 4,
 "nbformat_minor": 5
}
